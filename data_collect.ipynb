{
 "cells": [
  {
   "cell_type": "code",
   "execution_count": 12,
   "metadata": {},
   "outputs": [],
   "source": [
    "\n",
    "import requests\n",
    "url = 'https://media.githubusercontent.com/media/daquintero/ResearchProject/master/modelling/simulation_results/O_z_variations_1586816533.csv?token=AJONGNPDBWZXSNNAUQZ5OW3AUVW4O'\n",
    "res = requests.get(url, allow_redirects=True)\n",
    "with open('magnetic_field_data2.csv','wb') as file:\n",
    "    file.write(res.content)\n"
   ]
  },
  {
   "cell_type": "code",
   "execution_count": null,
   "metadata": {},
   "outputs": [],
   "source": []
  }
 ],
 "metadata": {
  "kernelspec": {
   "display_name": "Python 3",
   "language": "python",
   "name": "python3"
  },
  "language_info": {
   "codemirror_mode": {
    "name": "ipython",
    "version": 3
   },
   "file_extension": ".py",
   "mimetype": "text/x-python",
   "name": "python",
   "nbconvert_exporter": "python",
   "pygments_lexer": "ipython3",
   "version": "3.8.5"
  }
 },
 "nbformat": 4,
 "nbformat_minor": 4
}
